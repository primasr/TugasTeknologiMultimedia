{
  "nbformat": 4,
  "nbformat_minor": 0,
  "metadata": {
    "colab": {
      "name": "TugasDCT_TeknologiMultimedia.ipynb",
      "provenance": [],
      "collapsed_sections": [],
      "toc_visible": true,
      "authorship_tag": "ABX9TyO3XpbEJHQryz2QmvhZOJOO",
      "include_colab_link": true
    },
    "kernelspec": {
      "name": "python3",
      "display_name": "Python 3"
    },
    "language_info": {
      "name": "python"
    }
  },
  "cells": [
    {
      "cell_type": "markdown",
      "metadata": {
        "id": "view-in-github",
        "colab_type": "text"
      },
      "source": [
        "<a href=\"https://colab.research.google.com/github/primasr/TugasTeknologiMultimedia/blob/main/TugasDCT_TeknologiMultimedia.ipynb\" target=\"_parent\"><img src=\"https://colab.research.google.com/assets/colab-badge.svg\" alt=\"Open In Colab\"/></a>"
      ]
    },
    {
      "cell_type": "markdown",
      "metadata": {
        "id": "xd5NV_cL3qqQ"
      },
      "source": [
        "# **JPEG Compression**\n",
        "\n",
        "Steps of the JPEG compression are listed below: \n",
        "\n",
        "1. Description of DCT\n",
        "2. Reason for Quantization & Quantization Arrays\n",
        "3. Block Splitting\n",
        "4. Dividing into parts\n",
        "5. Discrete Cosine Transform\n",
        "6. Inverse Discrete Cosine Transform\n",
        "7. Complete the Puzzle\n",
        "8. Fourier Comparison of Original Image vs JPEG Compressed Image (Upcoming soon...)\n",
        "9. Huffman Coding for More Space (Upcoming soon...)\n",
        "10. Results"
      ]
    },
    {
      "cell_type": "code",
      "metadata": {
        "id": "NYBFFkKIuajw"
      },
      "source": [
        "import numpy as np\n",
        "import cv2\n",
        "from matplotlib import pyplot as plt\n",
        "from matplotlib import cm\n",
        "\n",
        "import os\n",
        "\n",
        "def showImage(img):\n",
        "    plt.imshow(img, cmap=\"gray\")\n",
        "    plt.xticks([]),plt.yticks([])\n",
        "    plt.show()\n"
      ],
      "execution_count": 17,
      "outputs": []
    },
    {
      "cell_type": "markdown",
      "metadata": {
        "id": "U0cixT5C3y-s"
      },
      "source": [
        "## **Description of DCT**\n",
        "\n",
        "> This is an example code for JPEG image compression. The algorithm behind the JPEG standart comes from Discrete Cosine Transform. A discrete cosine transform (DCT) expresses a finite sequence of data points in terms of a sum of cosine functions oscillating at different frequencies. Therefore, an image can be represtented with linear combinations of Discrete Cosine Transform coefficients. \n",
        "\n",
        "![DCT](https://users.cs.cf.ac.uk/Dave.Marshall/Multimedia/DCT.jpg)\n",
        "\n",
        " > The DCT transforms an 8×8 block of input values to a linear combination of these 64 patterns. The patterns are referred to as the two-dimensional DCT basis functions, and the output values are referred to as transform coefficients. The top left corner of the transform image represtents lowest frequency, when we move to bottom right corner we are encountering higher frequencies. An image is actually includes most of those frequencies, as I said in first sentence the image can be represtent with linear combinations of those parts of the frequency blocks."
      ]
    },
    {
      "cell_type": "markdown",
      "metadata": {
        "id": "K3AsAL6J36D_"
      },
      "source": [
        "## **Reason for Quantization & Quantization Arrays**\n",
        ">  The human eye is good at seeing small differences in brightness over a relatively large area, but not so good at distinguishing the exact strength of a high frequency brightness variation. This allows one to greatly reduce the amount of information in the high frequency components. This is done by simply dividing each component in the frequency domain by a constant for that component, and then rounding to the nearest integer. This rounding operation is the only lossy operation in the whole process (other than chroma subsampling) if the DCT computation is performed with sufficiently high precision. As a result of this, it is typically the case that many of the higher frequency components are rounded to zero, and many of the rest become small positive or negative numbers, which take many fewer bits to represent.\n",
        "\n",
        "> Since** DCT coefficient will be divided to quantization arrays elementwise**, the higher value on quantization array will cause higher compression to image. We are expecting to see image size on disk  \n",
        "\n",
        "> *(Resulted image Q10)<(Resulted image Q50)<(Resulted image Q90).*"
      ]
    },
    {
      "cell_type": "code",
      "metadata": {
        "id": "1bN6uLSWrvJg"
      },
      "source": [
        "#Quantization Arrays\n",
        "\n",
        "def selectQMatrix(qName):\n",
        "    Q10 = np.array([[80,60,50,80,120,200,255,255],\n",
        "                [55,60,70,95,130,255,255,255],\n",
        "                [70,65,80,120,200,255,255,255],\n",
        "                [70,85,110,145,255,255,255,255],\n",
        "                [90,110,185,255,255,255,255,255],\n",
        "                [120,175,255,255,255,255,255,255],\n",
        "                [245,255,255,255,255,255,255,255],\n",
        "                [255,255,255,255,255,255,255,255]])\n",
        "\n",
        "    Q50 = np.array([[16,11,10,16,24,40,51,61],\n",
        "                [12,12,14,19,26,58,60,55],\n",
        "                [14,13,16,24,40,57,69,56],\n",
        "                [14,17,22,29,51,87,80,62],\n",
        "                [18,22,37,56,68,109,103,77],\n",
        "                [24,35,55,64,81,104,113,92],\n",
        "                [49,64,78,87,103,121,120,101],\n",
        "                [72,92,95,98,112,100,130,99]])\n",
        "\n",
        "    Q90 = np.array([[3,2,2,3,5,8,10,12],\n",
        "                    [2,2,3,4,5,12,12,11],\n",
        "                    [3,3,3,5,8,11,14,11],\n",
        "                    [3,3,4,6,10,17,16,12],\n",
        "                    [4,4,7,11,14,22,21,15],\n",
        "                    [5,7,11,13,16,12,23,18],\n",
        "                    [10,13,16,17,21,24,24,21],\n",
        "                    [14,18,19,20,22,20,20,20]])\n",
        "    if qName == \"Q10\":\n",
        "        return Q10\n",
        "    elif qName == \"Q50\":\n",
        "        return Q50\n",
        "    elif qName == \"Q90\":\n",
        "        return Q90\n",
        "    else:\n",
        "        return np.ones((8,8)) #it suppose to return original image back\n"
      ],
      "execution_count": 18,
      "outputs": []
    },
    {
      "cell_type": "markdown",
      "metadata": {
        "id": "FXL3-EB44KDv"
      },
      "source": [
        "## **The Original Image**\n",
        "> I called showImage function, which is defined above.\n",
        "> You can choose between those 4 images which are located in input folder by changing the directory variable."
      ]
    },
    {
      "cell_type": "code",
      "metadata": {
        "colab": {
          "base_uri": "https://localhost:8080/",
          "height": 270
        },
        "id": "XRC2Z7Phrw3e",
        "outputId": "9f10819c-fcb9-4df3-8794-5dc3767d4cb9"
      },
      "source": [
        "directory = 'FOTO IJAZAH.png'\n",
        "img = cv2.imread(directory,0)\n",
        "\n",
        "plt.imshow(img, interpolation='nearest',cmap='gray')\n",
        "plt.imsave('img_awal.png', img, cmap=\"gray\")\n",
        "\n",
        "print(img.shape)\n",
        "\n",
        "showImage(img)"
      ],
      "execution_count": 19,
      "outputs": [
        {
          "output_type": "stream",
          "text": [
            "(592, 392)\n"
          ],
          "name": "stdout"
        },
        {
          "output_type": "display_data",
          "data": {
            "image/png": "[encoded data removed]",
            "text/plain": [
              "<Figure size 432x288 with 1 Axes>"
            ]
          },
          "metadata": {
            "tags": []
          }
        }
      ]
    },
    {
      "cell_type": "markdown",
      "metadata": {
        "id": "AAHOSnB14Ql2"
      },
      "source": [
        "## **Block Splitting**\n",
        ">  Block splitting is one of the processes that splice the image into smaller blocks of 8×8 or a 16×16 dimension. The important thing to understand is why this is done.\n",
        "> \n",
        "> Assume that we have a 256×256 image. Split these into 1024 8×8 blocks. Now, knowing that the computation complexity for the 2-dimensional DCT operation is O(N^4) and O((N log2N)^2) considering the Fast Cosine Transform, \n",
        "> we still have 2564^4 >> (256xlog2256)^2 >> 1024 x (8xlog28 )^2\n",
        "> which proves that its advisable to split and perform the operations.\n",
        "\n",
        "\n",
        ">  And the First move is reading image with using OpenCV then, extract height and width of the giving image.  I will be used those variables  for splitting operation.  I am creating an empty list for storing sliced image into 8x8 blocks. \"block\" parameter deciding the block size of sliced image."
      ]
    },
    {
      "cell_type": "code",
      "metadata": {
        "colab": {
          "base_uri": "https://localhost:8080/"
        },
        "id": "wWtO0-KyryLS",
        "outputId": "7bb93951-7421-4c60-f6ef-e9a061b36a92"
      },
      "source": [
        "height  = len(img) #one column of image\n",
        "width = len(img[0]) # one row of image\n",
        "sliced = [] # new list for 8x8 sliced image \n",
        "block = 8\n",
        "print(\"The image heigh is \" +str(height)+\", and image width is \"+str(width)+\" pixels\")"
      ],
      "execution_count": 20,
      "outputs": [
        {
          "output_type": "stream",
          "text": [
            "The image heigh is 592, and image width is 392 pixels\n"
          ],
          "name": "stdout"
        }
      ]
    },
    {
      "cell_type": "markdown",
      "metadata": {
        "id": "unQIA_8K4XqH"
      },
      "source": [
        "## **Dividing into parts**\n",
        "> I know it is not the best way to splitting image into small pieces but it works well. Later I am planning to improve these upcoming lines.\n",
        "\n",
        "> Before computing the DCT of the 8×8 block, its values are shifted from a positive range to one centered on zero. For an 8-bit image, each entry in the original block falls in the range [0,255] . The midpoint of the range (in this case, the value 128) is subtracted from each entry to produce a data range that is centered on zero, so that the modified range is [-128,127] . This step reduces the dynamic range requirements in the DCT processing stage that follows."
      ]
    },
    {
      "cell_type": "code",
      "metadata": {
        "colab": {
          "base_uri": "https://localhost:8080/"
        },
        "id": "qcDw1SUgr0TO",
        "outputId": "10df32e4-3f98-4d7d-9cf4-4bda688d3a2f"
      },
      "source": [
        "#dividing 8x8 parts\n",
        "currY = 0 #current Y index\n",
        "for i in range(block,height+1,block):\n",
        "    currX = 0 #current X index\n",
        "    for j in range(block,width+1,block):\n",
        "        sliced.append(img[currY:i,currX:j]-np.ones((8,8))*128) #Extracting 128 from all pixels\n",
        "        currX = j\n",
        "    currY = i\n",
        "    \n",
        "print(\"Size of the sliced image: \"+str(len(sliced)))\n",
        "print(\"Each elemend of sliced list contains a \"+ str(sliced[0].shape)+ \" element.\")\n"
      ],
      "execution_count": 21,
      "outputs": [
        {
          "output_type": "stream",
          "text": [
            "Size of the sliced image: 3626\n",
            "Each elemend of sliced list contains a (8, 8) element.\n"
          ],
          "name": "stdout"
        }
      ]
    },
    {
      "cell_type": "markdown",
      "metadata": {
        "id": "UFLe4lGI4eLT"
      },
      "source": [
        "Since *cv2.dct* operation requires floating numbers for discrete cosine transform, I am executing a int2float transform here. List comprehension is the easiest way to do so."
      ]
    },
    {
      "cell_type": "code",
      "metadata": {
        "id": "3yPMzFror1m0"
      },
      "source": [
        "imf = [np.float32(img) for img in sliced]"
      ],
      "execution_count": 22,
      "outputs": []
    },
    {
      "cell_type": "markdown",
      "metadata": {
        "id": "qDivpU_04ge2"
      },
      "source": [
        "## **Finally: Discrete Cosine Transform**\n",
        "> *cv2.dct* performs a forward or inverse discrete Cosine transform of 1D or 2D array.\n",
        "\n",
        "> Parameters of  cv2.dct(***input floating-point array***,***output array of the same size and type as source***,***inverse or forward flag***)\n",
        "\n",
        "> The following lines just calculating the DCT of blocks and append all blocks into *DCToutput*  list."
      ]
    },
    {
      "cell_type": "code",
      "metadata": {
        "colab": {
          "base_uri": "https://localhost:8080/"
        },
        "id": "URoU7sDAr2Bs",
        "outputId": "d2a2d02a-23d5-4bb0-86d3-292e70556ecc"
      },
      "source": [
        "DCToutput = []\n",
        "for part in imf:\n",
        "    currDCT = cv2.dct(part)\n",
        "    DCToutput.append(currDCT)\n",
        "DCToutput[0][0]"
      ],
      "execution_count": 23,
      "outputs": [
        {
          "output_type": "execute_result",
          "data": {
            "text/plain": [
              "array([-63.999996,   0.      ,   0.      ,   0.      ,   0.      ,\n",
              "         0.      ,   0.      ,   0.      ], dtype=float32)"
            ]
          },
          "metadata": {
            "tags": []
          },
          "execution_count": 23
        }
      ]
    },
    {
      "cell_type": "markdown",
      "metadata": {
        "id": "NI1T2Xib4o1X"
      },
      "source": [
        "> Again a very very computionaly costy algorithm here. The following code quantize the each pixel in blocks. \n",
        "\n",
        "> Notice that most of the higher-frequency elements of the sub-block (i.e., those with an x or y spatial frequency greater than 4) are compressed into zero values.\n",
        "\n",
        "> You can rearrange the Quantization matrix by chancing selectQMatrix input, avaiable Q. Matrix are: \"Q10\", \"Q50\" and \"Q90\". "
      ]
    },
    {
      "cell_type": "code",
      "metadata": {
        "colab": {
          "base_uri": "https://localhost:8080/"
        },
        "id": "7PZNDFs3r3ZE",
        "outputId": "66636c3d-a10c-487c-f5bc-6b3d7fe74e2b"
      },
      "source": [
        "selectedQMatrix = selectQMatrix(\"Q10\")\n",
        "for ndct in DCToutput:\n",
        "    for i in range(block):\n",
        "        for j in range(block):\n",
        "            ndct[i,j] = np.around(ndct[i,j]/selectedQMatrix[i,j])\n",
        "DCToutput[0][0]"
      ],
      "execution_count": 24,
      "outputs": [
        {
          "output_type": "execute_result",
          "data": {
            "text/plain": [
              "array([-1.,  0.,  0.,  0.,  0.,  0.,  0.,  0.], dtype=float32)"
            ]
          },
          "metadata": {
            "tags": []
          },
          "execution_count": 24
        }
      ]
    },
    {
      "cell_type": "markdown",
      "metadata": {
        "id": "vt9jJAb34i-t"
      },
      "source": [
        "As we can see quantization is completed. The size has been recuded. Now reconstruct the image back."
      ]
    },
    {
      "cell_type": "markdown",
      "metadata": {
        "id": "8_MA8Ph24uxQ"
      },
      "source": [
        "## **Inverse Discrete Cosine Transform**\n",
        "> *cv2.idct()* calculates inverse Discrete Cosine Transform of 1D or 2D array.\n",
        "> Parameters of  cv2.idct are same with cv2.dct."
      ]
    },
    {
      "cell_type": "code",
      "metadata": {
        "colab": {
          "base_uri": "https://localhost:8080/"
        },
        "id": "BL1eOak6r4e7",
        "outputId": "358b2480-9ff4-4d7a-d7f4-d0483866c59c"
      },
      "source": [
        "invList = []\n",
        "for ipart in DCToutput:\n",
        "    ipart\n",
        "    curriDCT = cv2.idct(ipart)\n",
        "    invList.append(curriDCT)\n",
        "invList[0][0]"
      ],
      "execution_count": 25,
      "outputs": [
        {
          "output_type": "execute_result",
          "data": {
            "text/plain": [
              "array([-0.12499999, -0.12499999, -0.12499999, -0.12499999, -0.12499999,\n",
              "       -0.12499999, -0.12499999, -0.12499999], dtype=float32)"
            ]
          },
          "metadata": {
            "tags": []
          },
          "execution_count": 25
        }
      ]
    },
    {
      "cell_type": "markdown",
      "metadata": {
        "id": "iwZtonll43SL"
      },
      "source": [
        "## **Complete the Puzzle**\n",
        "> In the following code, we are putting the image parts together. As we can observe on *invList* is one dimentional list that contains 8x8 numpy arrays inside it. In order to recover the image:\n",
        "> 1.  *invList* elements should be parsed at *width/block* steps. For example: If the image width is 1200 pixels, parsing steps should be 1200/8=150 pixels\n",
        "> 2. Use *np.hstack* if you are going to recover the image's rows first, else use *np.vstack* for recover columns first.\n",
        "> 3. Append all recovered columns into another list.\n",
        "> 4. Apply *np.vstack* if you have been used *np.hstack*, reverse order with entry 2."
      ]
    },
    {
      "cell_type": "code",
      "metadata": {
        "id": "2MbgYb8ur6sE"
      },
      "source": [
        "row = 0\n",
        "rowNcol = []\n",
        "for j in range(int(width/block),len(invList)+1,int(width/block)):\n",
        "    rowNcol.append(np.hstack((invList[row:j])))\n",
        "    row = j\n",
        "res = np.vstack((rowNcol))"
      ],
      "execution_count": 26,
      "outputs": []
    },
    {
      "cell_type": "markdown",
      "metadata": {
        "id": "wyww_bB_46Ly"
      },
      "source": [
        "## **Results**\n",
        "> There it is, the compressed image. As you can see the image lost some high frequency components and it causes reduced size on disk. There is no change in total pixel count, the JPEG did not reduce the size of the image, it just cancelled out high frequencies."
      ]
    },
    {
      "cell_type": "code",
      "metadata": {
        "colab": {
          "base_uri": "https://localhost:8080/",
          "height": 710
        },
        "id": "KJERbeIQr7pb",
        "outputId": "cf5c4372-67f2-4e6b-b5b5-a16f9ac7eda5"
      },
      "source": [
        "# show result and save it\n",
        "plt.title(\"Image Source\")\n",
        "plt.imshow(img, interpolation='nearest',cmap='gray')\n",
        "plt.show()\n",
        "\n",
        "plt.title(\"Compressed Image\")\n",
        "plt.imshow(res, interpolation='nearest',cmap='gray')\n",
        "plt.imsave('img_akhir.png', res, cmap=\"gray\")\n",
        "plt.show()\n",
        "\n",
        "# read file\n",
        "hehe1 = cv2.imread('img_awal.png')\n",
        "hehe2 = cv2.imread('img_akhir.png')\n",
        "\n",
        "# get image size\n",
        "msize_awal_rgb = os.path.getsize(directory)\n",
        "msize_awal = os.path.getsize('img_awal.png')\n",
        "msize_akhir = os.path.getsize('img_akhir.png')\n",
        "print(\"Memory size RGB        : \",msize_awal_rgb,\" bytes\")\n",
        "print(\"Memory size BnW Before : \",msize_awal,\" bytes\")\n",
        "print(\"Memory size BnW After  : \",msize_akhir,\" bytes\")\n",
        "\n",
        "# compression ratio rgb\n",
        "rgb_fix = ((msize_awal_rgb - msize_akhir)*100)/msize_awal_rgb\n",
        "formatted_ratio_rgb = \"{:.5f}\".format(rgb_fix)\n",
        "print(\"Compression ratio RGB Before - BnW After: \", formatted_ratio_rgb, \"%\")\n",
        "\n",
        "# compression ratio BnW\n",
        "bnw_fix = ((msize_awal - msize_akhir)*100)/msize_awal\n",
        "formatted_ratio_bnw = \"{:.5f}\".format(bnw_fix)\n",
        "print(\"Compression ratio BnW Before - BnW After: \", formatted_ratio_bnw, \"%\")\n",
        "\n",
        "# show MSE\n",
        "print(\"MSE: \", np.square(np.subtract(hehe1,hehe2)).mean())\n",
        "\n",
        "# PSNR function\n",
        "from math import log10, sqrt\n",
        "def PSNR(original, compressed):\n",
        "    mse = np.mean((original - compressed) ** 2)\n",
        "    if(mse == 0):  # MSE is zero means no noise is present in the signal .\n",
        "                  # Therefore PSNR have no importance.\n",
        "        return 100\n",
        "    max_pixel = 255.0\n",
        "    psnr = 20 * log10(max_pixel / sqrt(mse))\n",
        "    return psnr\n",
        "\n",
        "print(\"PSNR: \", PSNR(hehe1, hehe2), \" dB\")\n",
        "\n",
        "#SNR function\n",
        "import scipy.io\n",
        "def signaltonoise(a, axis=0, ddof=0):\n",
        "    a = np.asanyarray(a)\n",
        "    m = a.mean(axis)\n",
        "    sd = a.std(axis=axis, ddof=ddof)\n",
        "    return np.where(sd == 0, 0, m/sd)\n",
        "\n",
        "print(\"SNR: \", signaltonoise(hehe1).flatten().mean(), \" dB\")\n",
        "print(\"SNR: \", signaltonoise(hehe2).flatten().mean(), \" dB\")"
      ],
      "execution_count": 27,
      "outputs": [
        {
          "output_type": "display_data",
          "data": {
            "image/png": "[encoded data removed]",
            "text/plain": [
              "<Figure size 432x288 with 1 Axes>"
            ]
          },
          "metadata": {
            "tags": [],
            "needs_background": "light"
          }
        },
        {
          "output_type": "display_data",
          "data": {
            "image/png": "[encoded data removed]",
            "text/plain": [
              "<Figure size 432x288 with 1 Axes>"
            ]
          },
          "metadata": {
            "tags": [],
            "needs_background": "light"
          }
        },
        {
          "output_type": "stream",
          "text": [
            "Memory size RGB        :  351685  bytes\n",
            "Memory size BnW Before :  99058  bytes\n",
            "Memory size BnW After  :  42243  bytes\n",
            "Compression ratio RGB Before - BnW After:  87.98840 %\n",
            "Compression ratio BnW Before - BnW After:  57.35529 %\n",
            "MSE:  156.86715302675125\n",
            "PSNR:  26.17548346233502  dB\n",
            "SNR:  1.9965086545922395  dB\n",
            "SNR:  3.287503105349461  dB\n"
          ],
          "name": "stdout"
        }
      ]
    }
  ]
}